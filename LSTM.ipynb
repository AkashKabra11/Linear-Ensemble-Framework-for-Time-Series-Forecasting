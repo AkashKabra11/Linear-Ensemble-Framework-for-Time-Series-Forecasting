{
 "cells": [
  {
   "cell_type": "code",
   "execution_count": 1,
   "metadata": {},
   "outputs": [
    {
     "name": "stderr",
     "output_type": "stream",
     "text": [
      "/home/akash/.virtualenvs/cvpy3/lib/python3.6/site-packages/sklearn/externals/six.py:31: DeprecationWarning: The module is deprecated in version 0.21 and will be removed in version 0.23 since we've dropped support for Python 2.7. Please rely on the official version of six (https://pypi.org/project/six/).\n",
      "  \"(https://pypi.org/project/six/).\", DeprecationWarning)\n",
      "/home/akash/.virtualenvs/cvpy3/lib/python3.6/site-packages/sklearn/externals/joblib/__init__.py:15: DeprecationWarning: sklearn.externals.joblib is deprecated in 0.21 and will be removed in 0.23. Please import this functionality directly from joblib, which can be installed with: pip install joblib. If this warning is raised when loading pickled models, you may need to re-serialize those models with scikit-learn 0.21+.\n",
      "  warnings.warn(msg, category=DeprecationWarning)\n",
      "ERROR:fbprophet:Importing plotly failed. Interactive plots will not work.\n"
     ]
    }
   ],
   "source": [
    "import warnings\n",
    "import itertools\n",
    "import numpy as np\n",
    "import matplotlib.pyplot as plt\n",
    "warnings.filterwarnings(\"ignore\")\n",
    "plt.style.use('fivethirtyeight')\n",
    "\n",
    "import pandas as pd\n",
    "pd.set_option('display.expand_frame_repr', False)\n",
    "pd.set_option('display.max_columns', 500)\n",
    "pd.set_option('display.width', 1000)\n",
    "\n",
    "import statsmodels.api as sm\n",
    "from statsmodels.graphics.tsaplots import plot_acf\n",
    "from statsmodels.graphics.tsaplots import plot_pacf\n",
    "from statsmodels.tsa.stattools import adfuller\n",
    "from statsmodels.tsa.seasonal import seasonal_decompose\n",
    "from statsmodels.tsa.ar_model import AR\n",
    "from statsmodels.tsa.arima_model import ARMA, ARIMA\n",
    "from pyramid.arima import auto_arima\n",
    "from statsmodels.tsa.statespace.sarimax import SARIMAX\n",
    "from fbprophet import Prophet\n",
    "\n",
    "pd.plotting.register_matplotlib_converters()\n",
    "\n",
    "from math import sqrt\n",
    "import matplotlib\n",
    "matplotlib.rcParams['axes.labelsize'] = 14\n",
    "matplotlib.rcParams['xtick.labelsize'] = 12\n",
    "matplotlib.rcParams['ytick.labelsize'] = 12\n",
    "matplotlib.rcParams['text.color'] = 'k'\n",
    "matplotlib.rcParams['figure.figsize'] = 18, 8\n",
    "import seaborn as sns\n",
    "\n",
    "from random import random\n",
    "\n",
    "from sklearn.metrics import mean_squared_error, r2_score, mean_absolute_error, median_absolute_error, mean_squared_log_error"
   ]
  },
  {
   "cell_type": "code",
   "execution_count": 2,
   "metadata": {},
   "outputs": [],
   "source": [
    "df = pd.read_csv('international-airline-passengers.csv',header=None)"
   ]
  },
  {
   "cell_type": "code",
   "execution_count": 3,
   "metadata": {},
   "outputs": [],
   "source": [
    "df.columns = ['year','passengers']"
   ]
  },
  {
   "cell_type": "code",
   "execution_count": 4,
   "metadata": {},
   "outputs": [],
   "source": [
    "df['year'] = pd.to_datetime(df['year'], format='%Y-%m')\n",
    "y = df.set_index('year')"
   ]
  },
  {
   "cell_type": "code",
   "execution_count": 5,
   "metadata": {},
   "outputs": [],
   "source": [
    "from sklearn.preprocessing import StandardScaler,MinMaxScaler\n",
    "scaler = MinMaxScaler(feature_range=(0,1))\n",
    "df_val = df['passengers'].values\n",
    "df_val = df_val.reshape(-1, 1)\n",
    "df_val_scaled = scaler.fit_transform(df_val)\n",
    "df[\"scaled_y\"] = df_val_scaled"
   ]
  },
  {
   "cell_type": "code",
   "execution_count": 6,
   "metadata": {},
   "outputs": [
    {
     "data": {
      "text/html": [
       "<div>\n",
       "<style scoped>\n",
       "    .dataframe tbody tr th:only-of-type {\n",
       "        vertical-align: middle;\n",
       "    }\n",
       "\n",
       "    .dataframe tbody tr th {\n",
       "        vertical-align: top;\n",
       "    }\n",
       "\n",
       "    .dataframe thead th {\n",
       "        text-align: right;\n",
       "    }\n",
       "</style>\n",
       "<table border=\"1\" class=\"dataframe\">\n",
       "  <thead>\n",
       "    <tr style=\"text-align: right;\">\n",
       "      <th></th>\n",
       "      <th>year</th>\n",
       "      <th>passengers</th>\n",
       "      <th>scaled_y</th>\n",
       "    </tr>\n",
       "  </thead>\n",
       "  <tbody>\n",
       "    <tr>\n",
       "      <th>0</th>\n",
       "      <td>1949-01-01</td>\n",
       "      <td>112</td>\n",
       "      <td>0.015444</td>\n",
       "    </tr>\n",
       "    <tr>\n",
       "      <th>1</th>\n",
       "      <td>1949-02-01</td>\n",
       "      <td>118</td>\n",
       "      <td>0.027027</td>\n",
       "    </tr>\n",
       "    <tr>\n",
       "      <th>2</th>\n",
       "      <td>1949-03-01</td>\n",
       "      <td>132</td>\n",
       "      <td>0.054054</td>\n",
       "    </tr>\n",
       "    <tr>\n",
       "      <th>3</th>\n",
       "      <td>1949-04-01</td>\n",
       "      <td>129</td>\n",
       "      <td>0.048263</td>\n",
       "    </tr>\n",
       "    <tr>\n",
       "      <th>4</th>\n",
       "      <td>1949-05-01</td>\n",
       "      <td>121</td>\n",
       "      <td>0.032819</td>\n",
       "    </tr>\n",
       "  </tbody>\n",
       "</table>\n",
       "</div>"
      ],
      "text/plain": [
       "        year  passengers  scaled_y\n",
       "0 1949-01-01         112  0.015444\n",
       "1 1949-02-01         118  0.027027\n",
       "2 1949-03-01         132  0.054054\n",
       "3 1949-04-01         129  0.048263\n",
       "4 1949-05-01         121  0.032819"
      ]
     },
     "execution_count": 6,
     "metadata": {},
     "output_type": "execute_result"
    }
   ],
   "source": [
    "df.head()"
   ]
  },
  {
   "cell_type": "code",
   "execution_count": 7,
   "metadata": {},
   "outputs": [],
   "source": [
    "for obs in range(1,13):\n",
    "    df[\"T_\" + str(obs)] = df.scaled_y.shift(obs)"
   ]
  },
  {
   "cell_type": "code",
   "execution_count": 8,
   "metadata": {},
   "outputs": [
    {
     "data": {
      "text/html": [
       "<div>\n",
       "<style scoped>\n",
       "    .dataframe tbody tr th:only-of-type {\n",
       "        vertical-align: middle;\n",
       "    }\n",
       "\n",
       "    .dataframe tbody tr th {\n",
       "        vertical-align: top;\n",
       "    }\n",
       "\n",
       "    .dataframe thead th {\n",
       "        text-align: right;\n",
       "    }\n",
       "</style>\n",
       "<table border=\"1\" class=\"dataframe\">\n",
       "  <thead>\n",
       "    <tr style=\"text-align: right;\">\n",
       "      <th></th>\n",
       "      <th>year</th>\n",
       "      <th>passengers</th>\n",
       "      <th>scaled_y</th>\n",
       "      <th>T_1</th>\n",
       "      <th>T_2</th>\n",
       "      <th>T_3</th>\n",
       "      <th>T_4</th>\n",
       "      <th>T_5</th>\n",
       "      <th>T_6</th>\n",
       "      <th>T_7</th>\n",
       "      <th>T_8</th>\n",
       "      <th>T_9</th>\n",
       "      <th>T_10</th>\n",
       "      <th>T_11</th>\n",
       "      <th>T_12</th>\n",
       "    </tr>\n",
       "  </thead>\n",
       "  <tbody>\n",
       "    <tr>\n",
       "      <th>0</th>\n",
       "      <td>1949-01-01</td>\n",
       "      <td>112</td>\n",
       "      <td>0.015444</td>\n",
       "      <td>0.000000</td>\n",
       "      <td>0.000000</td>\n",
       "      <td>0.000000</td>\n",
       "      <td>0.000000</td>\n",
       "      <td>0.000000</td>\n",
       "      <td>0.000000</td>\n",
       "      <td>0.000000</td>\n",
       "      <td>0.000000</td>\n",
       "      <td>0.000000</td>\n",
       "      <td>0.0</td>\n",
       "      <td>0.0</td>\n",
       "      <td>0.0</td>\n",
       "    </tr>\n",
       "    <tr>\n",
       "      <th>1</th>\n",
       "      <td>1949-02-01</td>\n",
       "      <td>118</td>\n",
       "      <td>0.027027</td>\n",
       "      <td>0.015444</td>\n",
       "      <td>0.000000</td>\n",
       "      <td>0.000000</td>\n",
       "      <td>0.000000</td>\n",
       "      <td>0.000000</td>\n",
       "      <td>0.000000</td>\n",
       "      <td>0.000000</td>\n",
       "      <td>0.000000</td>\n",
       "      <td>0.000000</td>\n",
       "      <td>0.0</td>\n",
       "      <td>0.0</td>\n",
       "      <td>0.0</td>\n",
       "    </tr>\n",
       "    <tr>\n",
       "      <th>2</th>\n",
       "      <td>1949-03-01</td>\n",
       "      <td>132</td>\n",
       "      <td>0.054054</td>\n",
       "      <td>0.027027</td>\n",
       "      <td>0.015444</td>\n",
       "      <td>0.000000</td>\n",
       "      <td>0.000000</td>\n",
       "      <td>0.000000</td>\n",
       "      <td>0.000000</td>\n",
       "      <td>0.000000</td>\n",
       "      <td>0.000000</td>\n",
       "      <td>0.000000</td>\n",
       "      <td>0.0</td>\n",
       "      <td>0.0</td>\n",
       "      <td>0.0</td>\n",
       "    </tr>\n",
       "    <tr>\n",
       "      <th>3</th>\n",
       "      <td>1949-04-01</td>\n",
       "      <td>129</td>\n",
       "      <td>0.048263</td>\n",
       "      <td>0.054054</td>\n",
       "      <td>0.027027</td>\n",
       "      <td>0.015444</td>\n",
       "      <td>0.000000</td>\n",
       "      <td>0.000000</td>\n",
       "      <td>0.000000</td>\n",
       "      <td>0.000000</td>\n",
       "      <td>0.000000</td>\n",
       "      <td>0.000000</td>\n",
       "      <td>0.0</td>\n",
       "      <td>0.0</td>\n",
       "      <td>0.0</td>\n",
       "    </tr>\n",
       "    <tr>\n",
       "      <th>4</th>\n",
       "      <td>1949-05-01</td>\n",
       "      <td>121</td>\n",
       "      <td>0.032819</td>\n",
       "      <td>0.048263</td>\n",
       "      <td>0.054054</td>\n",
       "      <td>0.027027</td>\n",
       "      <td>0.015444</td>\n",
       "      <td>0.000000</td>\n",
       "      <td>0.000000</td>\n",
       "      <td>0.000000</td>\n",
       "      <td>0.000000</td>\n",
       "      <td>0.000000</td>\n",
       "      <td>0.0</td>\n",
       "      <td>0.0</td>\n",
       "      <td>0.0</td>\n",
       "    </tr>\n",
       "    <tr>\n",
       "      <th>5</th>\n",
       "      <td>1949-06-01</td>\n",
       "      <td>135</td>\n",
       "      <td>0.059846</td>\n",
       "      <td>0.032819</td>\n",
       "      <td>0.048263</td>\n",
       "      <td>0.054054</td>\n",
       "      <td>0.027027</td>\n",
       "      <td>0.015444</td>\n",
       "      <td>0.000000</td>\n",
       "      <td>0.000000</td>\n",
       "      <td>0.000000</td>\n",
       "      <td>0.000000</td>\n",
       "      <td>0.0</td>\n",
       "      <td>0.0</td>\n",
       "      <td>0.0</td>\n",
       "    </tr>\n",
       "    <tr>\n",
       "      <th>6</th>\n",
       "      <td>1949-07-01</td>\n",
       "      <td>148</td>\n",
       "      <td>0.084942</td>\n",
       "      <td>0.059846</td>\n",
       "      <td>0.032819</td>\n",
       "      <td>0.048263</td>\n",
       "      <td>0.054054</td>\n",
       "      <td>0.027027</td>\n",
       "      <td>0.015444</td>\n",
       "      <td>0.000000</td>\n",
       "      <td>0.000000</td>\n",
       "      <td>0.000000</td>\n",
       "      <td>0.0</td>\n",
       "      <td>0.0</td>\n",
       "      <td>0.0</td>\n",
       "    </tr>\n",
       "    <tr>\n",
       "      <th>7</th>\n",
       "      <td>1949-08-01</td>\n",
       "      <td>148</td>\n",
       "      <td>0.084942</td>\n",
       "      <td>0.084942</td>\n",
       "      <td>0.059846</td>\n",
       "      <td>0.032819</td>\n",
       "      <td>0.048263</td>\n",
       "      <td>0.054054</td>\n",
       "      <td>0.027027</td>\n",
       "      <td>0.015444</td>\n",
       "      <td>0.000000</td>\n",
       "      <td>0.000000</td>\n",
       "      <td>0.0</td>\n",
       "      <td>0.0</td>\n",
       "      <td>0.0</td>\n",
       "    </tr>\n",
       "    <tr>\n",
       "      <th>8</th>\n",
       "      <td>1949-09-01</td>\n",
       "      <td>136</td>\n",
       "      <td>0.061776</td>\n",
       "      <td>0.084942</td>\n",
       "      <td>0.084942</td>\n",
       "      <td>0.059846</td>\n",
       "      <td>0.032819</td>\n",
       "      <td>0.048263</td>\n",
       "      <td>0.054054</td>\n",
       "      <td>0.027027</td>\n",
       "      <td>0.015444</td>\n",
       "      <td>0.000000</td>\n",
       "      <td>0.0</td>\n",
       "      <td>0.0</td>\n",
       "      <td>0.0</td>\n",
       "    </tr>\n",
       "    <tr>\n",
       "      <th>9</th>\n",
       "      <td>1949-10-01</td>\n",
       "      <td>119</td>\n",
       "      <td>0.028958</td>\n",
       "      <td>0.061776</td>\n",
       "      <td>0.084942</td>\n",
       "      <td>0.084942</td>\n",
       "      <td>0.059846</td>\n",
       "      <td>0.032819</td>\n",
       "      <td>0.048263</td>\n",
       "      <td>0.054054</td>\n",
       "      <td>0.027027</td>\n",
       "      <td>0.015444</td>\n",
       "      <td>0.0</td>\n",
       "      <td>0.0</td>\n",
       "      <td>0.0</td>\n",
       "    </tr>\n",
       "  </tbody>\n",
       "</table>\n",
       "</div>"
      ],
      "text/plain": [
       "        year  passengers  scaled_y       T_1       T_2       T_3       T_4       T_5       T_6       T_7       T_8       T_9  T_10  T_11  T_12\n",
       "0 1949-01-01         112  0.015444  0.000000  0.000000  0.000000  0.000000  0.000000  0.000000  0.000000  0.000000  0.000000   0.0   0.0   0.0\n",
       "1 1949-02-01         118  0.027027  0.015444  0.000000  0.000000  0.000000  0.000000  0.000000  0.000000  0.000000  0.000000   0.0   0.0   0.0\n",
       "2 1949-03-01         132  0.054054  0.027027  0.015444  0.000000  0.000000  0.000000  0.000000  0.000000  0.000000  0.000000   0.0   0.0   0.0\n",
       "3 1949-04-01         129  0.048263  0.054054  0.027027  0.015444  0.000000  0.000000  0.000000  0.000000  0.000000  0.000000   0.0   0.0   0.0\n",
       "4 1949-05-01         121  0.032819  0.048263  0.054054  0.027027  0.015444  0.000000  0.000000  0.000000  0.000000  0.000000   0.0   0.0   0.0\n",
       "5 1949-06-01         135  0.059846  0.032819  0.048263  0.054054  0.027027  0.015444  0.000000  0.000000  0.000000  0.000000   0.0   0.0   0.0\n",
       "6 1949-07-01         148  0.084942  0.059846  0.032819  0.048263  0.054054  0.027027  0.015444  0.000000  0.000000  0.000000   0.0   0.0   0.0\n",
       "7 1949-08-01         148  0.084942  0.084942  0.059846  0.032819  0.048263  0.054054  0.027027  0.015444  0.000000  0.000000   0.0   0.0   0.0\n",
       "8 1949-09-01         136  0.061776  0.084942  0.084942  0.059846  0.032819  0.048263  0.054054  0.027027  0.015444  0.000000   0.0   0.0   0.0\n",
       "9 1949-10-01         119  0.028958  0.061776  0.084942  0.084942  0.059846  0.032819  0.048263  0.054054  0.027027  0.015444   0.0   0.0   0.0"
      ]
     },
     "execution_count": 8,
     "metadata": {},
     "output_type": "execute_result"
    }
   ],
   "source": [
    "df.fillna(0.00,inplace=True)\n",
    "df.head(10)"
   ]
  },
  {
   "cell_type": "code",
   "execution_count": 9,
   "metadata": {},
   "outputs": [],
   "source": [
    "train_data = df[:int(0.6*df.shape[0])]\n",
    "val_data = df[int(0.6*df.shape[0]):int(0.8*df.shape[0])]\n",
    "test_data = df[int(0.8*df.shape[0]):]"
   ]
  },
  {
   "cell_type": "code",
   "execution_count": 10,
   "metadata": {},
   "outputs": [
    {
     "name": "stdout",
     "output_type": "stream",
     "text": [
      "(86, 15) (29, 15) (29, 15)\n"
     ]
    }
   ],
   "source": [
    "print(train_data.shape, val_data.shape, test_data.shape)"
   ]
  },
  {
   "cell_type": "code",
   "execution_count": 25,
   "metadata": {},
   "outputs": [],
   "source": [
    "x_train = train_data.drop([\"passengers\" , \"year\", \"scaled_y\"], axis = 1)\n",
    "y_train = train_data[\"scaled_y\"]\n",
    "x_val = val_data.drop([\"passengers\", \"year\", \"scaled_y\"] , axis = 1)\n",
    "y_val = val_data[\"scaled_y\"]\n",
    "x_test = test_data.drop([\"passengers\", \"year\", \"scaled_y\"], axis = 1)\n",
    "y_test = test_data[\"scaled_y\"]\n",
    "\n",
    "x_full = df.drop([\"passengers\" , \"year\", \"scaled_y\"], axis = 1)\n",
    "y_full = df[\"passengers\"]"
   ]
  },
  {
   "cell_type": "code",
   "execution_count": 26,
   "metadata": {},
   "outputs": [
    {
     "name": "stdout",
     "output_type": "stream",
     "text": [
      "(86, 12) (29, 15) (29, 15)\n"
     ]
    }
   ],
   "source": [
    "print(x_train.shape, val_data.shape, test_data.shape)"
   ]
  },
  {
   "cell_type": "code",
   "execution_count": 27,
   "metadata": {},
   "outputs": [
    {
     "data": {
      "text/plain": [
       "'\\nfrom sklearn.preprocessing import StandardScaler,MinMaxScaler\\nscaler = StandardScaler()\\n\\nx_train_scaled = scaler.fit_transform(x_train)\\nx_test_scaled = scaler.fit_transform(x_test)\\nx_valid_scaled = scaler.fit_transform(x_val)\\n\\nx_t_reshaped = x_train_scaled.reshape((x_train_scaled.shape[0], 1, x_train_scaled.shape[1]))\\nx_val_reshaped = x_valid_scaled.reshape((x_valid_scaled.shape[0], 1, x_valid_scaled.shape[1]))\\n'"
      ]
     },
     "execution_count": 27,
     "metadata": {},
     "output_type": "execute_result"
    }
   ],
   "source": [
    "\"\"\"\n",
    "from sklearn.preprocessing import StandardScaler,MinMaxScaler\n",
    "scaler = StandardScaler()\n",
    "\n",
    "x_train_scaled = scaler.fit_transform(x_train)\n",
    "x_test_scaled = scaler.fit_transform(x_test)\n",
    "x_valid_scaled = scaler.fit_transform(x_val)\n",
    "\n",
    "x_t_reshaped = x_train_scaled.reshape((x_train_scaled.shape[0], 1, x_train_scaled.shape[1]))\n",
    "x_val_reshaped = x_valid_scaled.reshape((x_valid_scaled.shape[0], 1, x_valid_scaled.shape[1]))\n",
    "\"\"\"\n"
   ]
  },
  {
   "cell_type": "code",
   "execution_count": 28,
   "metadata": {},
   "outputs": [],
   "source": [
    "\n",
    "'''\n",
    "x_train_scaled = scaler.fit_transform(x_train)\n",
    "x_test_scaled = scaler.fit_transform(x_test)\n",
    "x_valid_scaled = scaler.fit_transform(x_val)\n",
    "'''\n",
    "\n",
    "x_train = x_train.values\n",
    "x_val = x_val.values\n",
    "x_t_reshaped = x_train.reshape((x_train.shape[0], 1, x_train.shape[1]))\n",
    "x_val_reshaped = x_val.reshape((x_val.shape[0], 1, x_val.shape[1]))"
   ]
  },
  {
   "cell_type": "code",
   "execution_count": null,
   "metadata": {},
   "outputs": [],
   "source": []
  },
  {
   "cell_type": "code",
   "execution_count": 15,
   "metadata": {},
   "outputs": [
    {
     "name": "stderr",
     "output_type": "stream",
     "text": [
      "Using TensorFlow backend.\n"
     ]
    }
   ],
   "source": [
    "from keras.models import Sequential\n",
    "from keras.layers import Dense, Dropout\n",
    "from keras.layers import LSTM"
   ]
  },
  {
   "cell_type": "code",
   "execution_count": 16,
   "metadata": {},
   "outputs": [
    {
     "name": "stderr",
     "output_type": "stream",
     "text": [
      "WARNING:tensorflow:From /home/akash/.virtualenvs/cvpy3/lib/python3.6/site-packages/tensorflow/python/framework/op_def_library.py:263: colocate_with (from tensorflow.python.framework.ops) is deprecated and will be removed in a future version.\n",
      "Instructions for updating:\n",
      "Colocations handled automatically by placer.\n",
      "WARNING:tensorflow:From /home/akash/.virtualenvs/cvpy3/lib/python3.6/site-packages/keras/backend/tensorflow_backend.py:3445: calling dropout (from tensorflow.python.ops.nn_ops) with keep_prob is deprecated and will be removed in a future version.\n",
      "Instructions for updating:\n",
      "Please use `rate` instead of `keep_prob`. Rate should be set to `rate = 1 - keep_prob`.\n"
     ]
    }
   ],
   "source": [
    "model_k = Sequential()\n",
    "model_k.add(LSTM(100, input_shape=(1,12)))\n",
    "model_k.add(Dropout(0.1))\n",
    "model_k.add(Dense(1))\n",
    "model_k.compile(loss='mean_squared_error', optimizer='adam')"
   ]
  },
  {
   "cell_type": "code",
   "execution_count": 17,
   "metadata": {},
   "outputs": [
    {
     "name": "stderr",
     "output_type": "stream",
     "text": [
      "WARNING:tensorflow:From /home/akash/.virtualenvs/cvpy3/lib/python3.6/site-packages/tensorflow/python/ops/math_ops.py:3066: to_int32 (from tensorflow.python.ops.math_ops) is deprecated and will be removed in a future version.\n",
      "Instructions for updating:\n",
      "Use tf.cast instead.\n"
     ]
    },
    {
     "name": "stdout",
     "output_type": "stream",
     "text": [
      "Train on 86 samples, validate on 29 samples\n",
      "Epoch 1/100\n",
      "86/86 [==============================] - 1s 8ms/step - loss: 0.0358 - val_loss: 0.1126\n",
      "Epoch 2/100\n",
      "86/86 [==============================] - 0s 316us/step - loss: 0.0109 - val_loss: 0.0306\n",
      "Epoch 3/100\n",
      "86/86 [==============================] - 0s 350us/step - loss: 0.0041 - val_loss: 0.0103\n",
      "Epoch 4/100\n",
      "86/86 [==============================] - 0s 392us/step - loss: 0.0043 - val_loss: 0.0105\n",
      "Epoch 5/100\n",
      "86/86 [==============================] - 0s 347us/step - loss: 0.0043 - val_loss: 0.0098\n",
      "Epoch 6/100\n",
      "86/86 [==============================] - 0s 351us/step - loss: 0.0030 - val_loss: 0.0115\n",
      "Epoch 7/100\n",
      "86/86 [==============================] - 0s 331us/step - loss: 0.0029 - val_loss: 0.0111\n",
      "Epoch 8/100\n",
      "86/86 [==============================] - 0s 311us/step - loss: 0.0030 - val_loss: 0.0103\n",
      "Epoch 9/100\n",
      "86/86 [==============================] - 0s 358us/step - loss: 0.0027 - val_loss: 0.0101\n",
      "Epoch 10/100\n",
      "86/86 [==============================] - 0s 377us/step - loss: 0.0026 - val_loss: 0.0093\n",
      "Epoch 11/100\n",
      "86/86 [==============================] - 0s 380us/step - loss: 0.0022 - val_loss: 0.0086\n",
      "Epoch 12/100\n",
      "86/86 [==============================] - 0s 288us/step - loss: 0.0024 - val_loss: 0.0083\n",
      "Epoch 13/100\n",
      "86/86 [==============================] - 0s 340us/step - loss: 0.0023 - val_loss: 0.0082\n",
      "Epoch 14/100\n",
      "86/86 [==============================] - 0s 315us/step - loss: 0.0023 - val_loss: 0.0080\n",
      "Epoch 15/100\n",
      "86/86 [==============================] - 0s 337us/step - loss: 0.0022 - val_loss: 0.0073\n",
      "Epoch 16/100\n",
      "86/86 [==============================] - 0s 350us/step - loss: 0.0022 - val_loss: 0.0070\n",
      "Epoch 17/100\n",
      "86/86 [==============================] - 0s 376us/step - loss: 0.0022 - val_loss: 0.0068\n",
      "Epoch 18/100\n",
      "86/86 [==============================] - 0s 390us/step - loss: 0.0021 - val_loss: 0.0068\n",
      "Epoch 19/100\n",
      "86/86 [==============================] - 0s 362us/step - loss: 0.0020 - val_loss: 0.0063\n",
      "Epoch 20/100\n",
      "86/86 [==============================] - 0s 403us/step - loss: 0.0018 - val_loss: 0.0060\n",
      "Epoch 21/100\n",
      "86/86 [==============================] - 0s 411us/step - loss: 0.0018 - val_loss: 0.0058\n",
      "Epoch 22/100\n",
      "86/86 [==============================] - 0s 390us/step - loss: 0.0017 - val_loss: 0.0058\n",
      "Epoch 23/100\n",
      "86/86 [==============================] - 0s 332us/step - loss: 0.0018 - val_loss: 0.0052\n",
      "Epoch 24/100\n",
      "86/86 [==============================] - 0s 336us/step - loss: 0.0016 - val_loss: 0.0052\n",
      "Epoch 25/100\n",
      "86/86 [==============================] - 0s 389us/step - loss: 0.0017 - val_loss: 0.0047\n",
      "Epoch 26/100\n",
      "86/86 [==============================] - 0s 386us/step - loss: 0.0016 - val_loss: 0.0045\n",
      "Epoch 27/100\n",
      "86/86 [==============================] - 0s 394us/step - loss: 0.0016 - val_loss: 0.0050\n",
      "Epoch 28/100\n",
      "86/86 [==============================] - 0s 425us/step - loss: 0.0012 - val_loss: 0.0041\n",
      "Epoch 29/100\n",
      "86/86 [==============================] - 0s 280us/step - loss: 0.0015 - val_loss: 0.0040\n",
      "Epoch 30/100\n",
      "86/86 [==============================] - 0s 389us/step - loss: 0.0014 - val_loss: 0.0056\n",
      "Epoch 31/100\n",
      "86/86 [==============================] - 0s 372us/step - loss: 0.0015 - val_loss: 0.0037\n",
      "Epoch 32/100\n",
      "86/86 [==============================] - 0s 408us/step - loss: 0.0012 - val_loss: 0.0034\n",
      "Epoch 33/100\n",
      "86/86 [==============================] - 0s 397us/step - loss: 0.0011 - val_loss: 0.0033\n",
      "Epoch 34/100\n",
      "86/86 [==============================] - 0s 402us/step - loss: 0.0012 - val_loss: 0.0034\n",
      "Epoch 35/100\n",
      "86/86 [==============================] - 0s 394us/step - loss: 0.0012 - val_loss: 0.0029\n",
      "Epoch 36/100\n",
      "86/86 [==============================] - 0s 370us/step - loss: 0.0010 - val_loss: 0.0028\n",
      "Epoch 37/100\n",
      "86/86 [==============================] - 0s 405us/step - loss: 9.2829e-04 - val_loss: 0.0029\n",
      "Epoch 38/100\n",
      "86/86 [==============================] - 0s 379us/step - loss: 9.4107e-04 - val_loss: 0.0039\n",
      "Epoch 39/100\n",
      "86/86 [==============================] - 0s 313us/step - loss: 0.0011 - val_loss: 0.0033\n",
      "Epoch 40/100\n",
      "86/86 [==============================] - 0s 385us/step - loss: 9.9903e-04 - val_loss: 0.0028\n",
      "Epoch 41/100\n",
      "86/86 [==============================] - 0s 399us/step - loss: 9.5916e-04 - val_loss: 0.0032\n",
      "Epoch 42/100\n",
      "86/86 [==============================] - 0s 403us/step - loss: 8.7538e-04 - val_loss: 0.0033\n",
      "Epoch 43/100\n",
      "86/86 [==============================] - 0s 471us/step - loss: 9.7608e-04 - val_loss: 0.0024\n",
      "Epoch 44/100\n",
      "86/86 [==============================] - 0s 401us/step - loss: 8.8046e-04 - val_loss: 0.0031\n",
      "Epoch 45/100\n",
      "86/86 [==============================] - 0s 402us/step - loss: 8.1582e-04 - val_loss: 0.0028\n",
      "Epoch 46/100\n",
      "86/86 [==============================] - 0s 390us/step - loss: 8.2069e-04 - val_loss: 0.0024\n",
      "Epoch 47/100\n",
      "86/86 [==============================] - 0s 363us/step - loss: 0.0010 - val_loss: 0.0026\n",
      "Epoch 48/100\n",
      "86/86 [==============================] - 0s 351us/step - loss: 8.4067e-04 - val_loss: 0.0030\n",
      "Epoch 49/100\n",
      "86/86 [==============================] - 0s 420us/step - loss: 8.3543e-04 - val_loss: 0.0030\n",
      "Epoch 50/100\n",
      "86/86 [==============================] - 0s 389us/step - loss: 8.2639e-04 - val_loss: 0.0024\n",
      "Epoch 51/100\n",
      "86/86 [==============================] - 0s 313us/step - loss: 8.9816e-04 - val_loss: 0.0028\n",
      "Epoch 52/100\n",
      "86/86 [==============================] - 0s 337us/step - loss: 7.7357e-04 - val_loss: 0.0026\n",
      "Epoch 53/100\n",
      "86/86 [==============================] - 0s 308us/step - loss: 8.4233e-04 - val_loss: 0.0016\n",
      "Epoch 54/100\n",
      "86/86 [==============================] - 0s 308us/step - loss: 7.5533e-04 - val_loss: 0.0037\n",
      "Epoch 55/100\n",
      "86/86 [==============================] - 0s 377us/step - loss: 7.2655e-04 - val_loss: 0.0038\n",
      "Epoch 56/100\n",
      "86/86 [==============================] - 0s 365us/step - loss: 7.6594e-04 - val_loss: 0.0035\n",
      "Epoch 57/100\n",
      "86/86 [==============================] - 0s 353us/step - loss: 6.9234e-04 - val_loss: 0.0027\n",
      "Epoch 58/100\n",
      "86/86 [==============================] - 0s 376us/step - loss: 6.9844e-04 - val_loss: 0.0032\n",
      "Epoch 59/100\n",
      "86/86 [==============================] - 0s 329us/step - loss: 7.4558e-04 - val_loss: 0.0028\n",
      "Epoch 60/100\n",
      "86/86 [==============================] - 0s 387us/step - loss: 7.0174e-04 - val_loss: 0.0026\n",
      "Epoch 61/100\n",
      "86/86 [==============================] - 0s 260us/step - loss: 7.2073e-04 - val_loss: 0.0035\n",
      "Epoch 62/100\n",
      "86/86 [==============================] - 0s 354us/step - loss: 7.2252e-04 - val_loss: 0.0024\n",
      "Epoch 63/100\n",
      "86/86 [==============================] - 0s 321us/step - loss: 7.4799e-04 - val_loss: 0.0028\n",
      "Epoch 64/100\n",
      "86/86 [==============================] - 0s 296us/step - loss: 7.0381e-04 - val_loss: 0.0023\n",
      "Epoch 65/100\n",
      "86/86 [==============================] - 0s 357us/step - loss: 7.0735e-04 - val_loss: 0.0021\n",
      "Epoch 66/100\n",
      "86/86 [==============================] - 0s 383us/step - loss: 8.3075e-04 - val_loss: 0.0030\n",
      "Epoch 67/100\n",
      "86/86 [==============================] - 0s 368us/step - loss: 7.3569e-04 - val_loss: 0.0035\n",
      "Epoch 68/100\n",
      "86/86 [==============================] - 0s 372us/step - loss: 7.2402e-04 - val_loss: 0.0016\n",
      "Epoch 69/100\n",
      "86/86 [==============================] - 0s 355us/step - loss: 8.0856e-04 - val_loss: 0.0039\n",
      "Epoch 70/100\n",
      "86/86 [==============================] - 0s 327us/step - loss: 7.3625e-04 - val_loss: 0.0043\n",
      "Epoch 71/100\n",
      "86/86 [==============================] - 0s 262us/step - loss: 8.7634e-04 - val_loss: 0.0020\n",
      "Epoch 72/100\n",
      "86/86 [==============================] - 0s 385us/step - loss: 6.8999e-04 - val_loss: 0.0047\n",
      "Epoch 73/100\n",
      "86/86 [==============================] - 0s 346us/step - loss: 6.5193e-04 - val_loss: 0.0024\n",
      "Epoch 74/100\n",
      "86/86 [==============================] - 0s 311us/step - loss: 6.2173e-04 - val_loss: 0.0031\n",
      "Epoch 75/100\n",
      "86/86 [==============================] - 0s 302us/step - loss: 8.3628e-04 - val_loss: 0.0033\n",
      "Epoch 76/100\n",
      "86/86 [==============================] - 0s 344us/step - loss: 8.4917e-04 - val_loss: 0.0014\n",
      "Epoch 77/100\n",
      "86/86 [==============================] - 0s 366us/step - loss: 7.8337e-04 - val_loss: 0.0042\n",
      "Epoch 78/100\n",
      "86/86 [==============================] - 0s 317us/step - loss: 7.3842e-04 - val_loss: 0.0016\n",
      "Epoch 79/100\n",
      "86/86 [==============================] - 0s 298us/step - loss: 6.9954e-04 - val_loss: 0.0033\n",
      "Epoch 80/100\n",
      "86/86 [==============================] - 0s 321us/step - loss: 6.6301e-04 - val_loss: 0.0017\n",
      "Epoch 81/100\n",
      "86/86 [==============================] - 0s 284us/step - loss: 7.2384e-04 - val_loss: 0.0028\n",
      "Epoch 82/100\n",
      "86/86 [==============================] - 0s 340us/step - loss: 6.2163e-04 - val_loss: 0.0042\n",
      "Epoch 83/100\n",
      "86/86 [==============================] - 0s 333us/step - loss: 6.8413e-04 - val_loss: 0.0025\n",
      "Epoch 84/100\n",
      "86/86 [==============================] - 0s 337us/step - loss: 6.9380e-04 - val_loss: 0.0032\n",
      "Epoch 85/100\n",
      "86/86 [==============================] - 0s 282us/step - loss: 6.0772e-04 - val_loss: 0.0038\n",
      "Epoch 86/100\n",
      "86/86 [==============================] - 0s 314us/step - loss: 5.9466e-04 - val_loss: 0.0033\n",
      "Epoch 87/100\n",
      "86/86 [==============================] - 0s 302us/step - loss: 7.9342e-04 - val_loss: 0.0033\n",
      "Epoch 88/100\n",
      "86/86 [==============================] - 0s 386us/step - loss: 6.8355e-04 - val_loss: 0.0045\n",
      "Epoch 89/100\n",
      "86/86 [==============================] - 0s 353us/step - loss: 6.6336e-04 - val_loss: 0.0029\n",
      "Epoch 90/100\n",
      "86/86 [==============================] - 0s 346us/step - loss: 6.5841e-04 - val_loss: 0.0031\n",
      "Epoch 91/100\n",
      "86/86 [==============================] - 0s 334us/step - loss: 5.8941e-04 - val_loss: 0.0039\n",
      "Epoch 92/100\n",
      "86/86 [==============================] - 0s 319us/step - loss: 7.2427e-04 - val_loss: 0.0027\n",
      "Epoch 93/100\n",
      "86/86 [==============================] - 0s 286us/step - loss: 5.4256e-04 - val_loss: 0.0032\n",
      "Epoch 94/100\n",
      "86/86 [==============================] - 0s 321us/step - loss: 5.4452e-04 - val_loss: 0.0026\n",
      "Epoch 95/100\n",
      "86/86 [==============================] - 0s 350us/step - loss: 6.4216e-04 - val_loss: 0.0023\n",
      "Epoch 96/100\n",
      "86/86 [==============================] - 0s 276us/step - loss: 6.7765e-04 - val_loss: 0.0032\n",
      "Epoch 97/100\n",
      "86/86 [==============================] - 0s 341us/step - loss: 6.2255e-04 - val_loss: 0.0028\n",
      "Epoch 98/100\n",
      "86/86 [==============================] - 0s 353us/step - loss: 6.7050e-04 - val_loss: 0.0027\n",
      "Epoch 99/100\n",
      "86/86 [==============================] - 0s 348us/step - loss: 7.9898e-04 - val_loss: 0.0051\n",
      "Epoch 100/100\n",
      "86/86 [==============================] - 0s 272us/step - loss: 6.4584e-04 - val_loss: 0.0016\n"
     ]
    }
   ],
   "source": [
    "history = model_k.fit(x_t_reshaped, y_train, validation_data=(x_val_reshaped, y_val),epochs=100, batch_size=12, verbose=1)"
   ]
  },
  {
   "cell_type": "code",
   "execution_count": 29,
   "metadata": {},
   "outputs": [],
   "source": [
    "x_test = x_test.values\n",
    "x_te_reshaped = x_test.reshape((x_test.shape[0], 1, x_test.shape[1]))\n",
    "\n",
    "x_full_arr = x_full.values\n",
    "x_full_reshaped = x_full_arr.reshape((x_full.shape[0], 1, x_full.shape[1]))"
   ]
  },
  {
   "cell_type": "code",
   "execution_count": 30,
   "metadata": {},
   "outputs": [],
   "source": [
    "res_tr = model_k.predict(x_t_reshaped)\n",
    "res_val = model_k.predict(x_val_reshaped)\n",
    "res_test = model_k.predict(x_te_reshaped)\n",
    "\n",
    "res_full = model_k.predict(x_full_reshaped)"
   ]
  },
  {
   "cell_type": "code",
   "execution_count": 31,
   "metadata": {},
   "outputs": [
    {
     "name": "stdout",
     "output_type": "stream",
     "text": [
      "(86, 1) (29, 1) (29, 1)\n"
     ]
    }
   ],
   "source": [
    "print(res_tr.shape, res_val.shape,res_test.shape)"
   ]
  },
  {
   "cell_type": "code",
   "execution_count": 32,
   "metadata": {},
   "outputs": [],
   "source": [
    "y_pred_tr = scaler.inverse_transform(res_tr)\n",
    "y_pred_val = scaler.inverse_transform(res_val)\n",
    "y_pred_test = scaler.inverse_transform(res_test)\n",
    "y_act = df[\"passengers\"].values\n",
    "\n",
    "y_full= scaler.inverse_transform(res_full)"
   ]
  },
  {
   "cell_type": "code",
   "execution_count": 33,
   "metadata": {},
   "outputs": [],
   "source": [
    "look_back = 12"
   ]
  },
  {
   "cell_type": "code",
   "execution_count": 34,
   "metadata": {},
   "outputs": [],
   "source": [
    "\n",
    "# shift train predictions for plotting\n",
    "all_y = df[\"scaled_y\"].values\n",
    "\n",
    "dataset= all_y.reshape(-1, 1)\n",
    "trainPredictPlot = np.empty_like(dataset)\n",
    "trainPredictPlot[:, :] = np.nan\n",
    "#print(trainPredictPlot)\n",
    "trainPredictPlot[:len(y_pred_tr), :] = y_pred_tr\n",
    "\n",
    "valPredictPlot = np.empty_like(dataset)\n",
    "valPredictPlot[:, :] = np.nan\n",
    "#print(trainPredictPlot)\n",
    "valPredictPlot[len(y_pred_tr) : len(y_pred_tr) + len(y_pred_val), :] = y_pred_val\n",
    "\n",
    "testPredictPlot = np.empty_like(dataset)\n",
    "testPredictPlot[:, :] = np.nan\n",
    "#print(trainPredictPlot)\n",
    "testPredictPlot[len(y_pred_tr) + len(y_pred_val):, :] = y_pred_test"
   ]
  },
  {
   "cell_type": "code",
   "execution_count": 35,
   "metadata": {},
   "outputs": [
    {
     "data": {
      "text/plain": [
       "[<matplotlib.lines.Line2D at 0x7fbce4076128>]"
      ]
     },
     "execution_count": 35,
     "metadata": {},
     "output_type": "execute_result"
    },
    {
     "data": {
      "image/png": "[encoded data removed]",
      "text/plain": [
       "<Figure size 1296x576 with 1 Axes>"
      ]
     },
     "metadata": {
      "needs_background": "light"
     },
     "output_type": "display_data"
    }
   ],
   "source": [
    "matplotlib.rcParams['figure.figsize'] = 18, 8\n",
    "plt.plot(y_act)\n",
    "plt.plot(valPredictPlot)\n",
    "plt.plot(testPredictPlot)\n"
   ]
  },
  {
   "cell_type": "code",
   "execution_count": 51,
   "metadata": {},
   "outputs": [
    {
     "name": "stdout",
     "output_type": "stream",
     "text": [
      "96.53942954370085\n"
     ]
    }
   ],
   "source": [
    "#R^2\n",
    "\n",
    "from sklearn.metrics import r2_score\n",
    "print(r2_score(y_act, y_full)*100)"
   ]
  },
  {
   "cell_type": "code",
   "execution_count": 43,
   "metadata": {},
   "outputs": [],
   "source": [
    "np.savetxt(\"LSTM_RESULT.csv\", y_act)"
   ]
  },
  {
   "cell_type": "code",
   "execution_count": 40,
   "metadata": {},
   "outputs": [
    {
     "name": "stdout",
     "output_type": "stream",
     "text": [
      "[112 118 132 129 121 135 148 148 136 119 104 118 115 126 141 135 125 149\n",
      " 170 170 158 133 114 140 145 150 178 163 172 178 199 199 184 162 146 166\n",
      " 171 180 193 181 183 218 230 242 209 191 172 194 196 196 236 235 229 243\n",
      " 264 272 237 211 180 201 204 188 235 227 234 264 302 293 259 229 203 229\n",
      " 242 233 267 269 270 315 364 347 312 274 237 278 284 277 317 313 318 374\n",
      " 413 405 355 306 271 306 315 301 356 348 355 422 465 467 404 347 305 336\n",
      " 340 318 362 348 363 435 491 505 404 359 310 337 360 342 406 396 420 472\n",
      " 548 559 463 407 362 405 417 391 419 461 472 535 622 606 508 461 390 432]\n"
     ]
    }
   ],
   "source": [
    "print(y_act)"
   ]
  },
  {
   "cell_type": "code",
   "execution_count": 44,
   "metadata": {},
   "outputs": [],
   "source": [
    "np.savetxt(\"LSTM_RESULT_my.csv\", y_full)"
   ]
  },
  {
   "cell_type": "code",
   "execution_count": 57,
   "metadata": {},
   "outputs": [
    {
     "name": "stdout",
     "output_type": "stream",
     "text": [
      "74.4905221023214\n"
     ]
    }
   ],
   "source": [
    "print(r2_score(y_act[int(0.77*len(y_act)):] , y_full[int(0.77*len(y_full)): ])*100)"
   ]
  },
  {
   "cell_type": "code",
   "execution_count": 48,
   "metadata": {},
   "outputs": [
    {
     "data": {
      "text/plain": [
       "array([340, 318, 362, 348, 363, 435, 491, 505, 404, 359, 310, 337, 360,\n",
       "       342, 406, 396, 420, 472, 548, 559, 463, 407, 362, 405, 417, 391,\n",
       "       419, 461, 472, 535, 622, 606, 508, 461, 390, 432])"
      ]
     },
     "execution_count": 48,
     "metadata": {},
     "output_type": "execute_result"
    }
   ],
   "source": [
    "y_act[int(0.75*len(y_act)):]"
   ]
  },
  {
   "cell_type": "code",
   "execution_count": null,
   "metadata": {},
   "outputs": [],
   "source": []
  }
 ],
 "metadata": {
  "kernelspec": {
   "display_name": "Python 3",
   "language": "python",
   "name": "python3"
  },
  "language_info": {
   "codemirror_mode": {
    "name": "ipython",
    "version": 3
   },
   "file_extension": ".py",
   "mimetype": "text/x-python",
   "name": "python",
   "nbconvert_exporter": "python",
   "pygments_lexer": "ipython3",
   "version": "3.6.7"
  }
 },
 "nbformat": 4,
 "nbformat_minor": 2
}
